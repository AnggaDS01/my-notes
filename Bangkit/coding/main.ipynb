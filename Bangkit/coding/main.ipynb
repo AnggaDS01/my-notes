{
 "cells": [
  {
   "attachments": {},
   "cell_type": "markdown",
   "metadata": {},
   "source": [
    "hallo semuanya nama saya angga dwi sunarto, dan ini adalah beberapa harapan saya dan goals saya terhadap course ini yaitu saya berharap dengan adanya course ini skill python saya lebih meningkat lagi dan dapat digunakan di dunia kerja nanti.\n",
    "\n",
    "Dan saya memiliki beberapa hobi yaitu membaca buku, mendengarkan musik , bermain game dan coding mungkin itulah beberapa hobi dari saya.\n",
    "\n",
    "Dan sebelumnya saya berasal dari Indonesia salam kenal semua semoga kita bisa menjadi teman dengan adanya course ini"
   ]
  },
  {
   "cell_type": "markdown",
   "metadata": {},
   "source": []
  }
 ],
 "metadata": {
  "language_info": {
   "name": "python"
  },
  "orig_nbformat": 4
 },
 "nbformat": 4,
 "nbformat_minor": 2
}
